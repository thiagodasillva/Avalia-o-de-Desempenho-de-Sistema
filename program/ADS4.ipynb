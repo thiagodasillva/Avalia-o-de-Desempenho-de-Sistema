{
 "cells": [
  {
   "cell_type": "code",
   "execution_count": 1,
   "metadata": {},
   "outputs": [],
   "source": [
    "import pandas as pd"
   ]
  },
  {
   "cell_type": "code",
   "execution_count": 13,
   "metadata": {},
   "outputs": [
    {
     "data": {
      "text/html": [
       "<div>\n",
       "<style scoped>\n",
       "    .dataframe tbody tr th:only-of-type {\n",
       "        vertical-align: middle;\n",
       "    }\n",
       "\n",
       "    .dataframe tbody tr th {\n",
       "        vertical-align: top;\n",
       "    }\n",
       "\n",
       "    .dataframe thead th {\n",
       "        text-align: right;\n",
       "    }\n",
       "</style>\n",
       "<table border=\"1\" class=\"dataframe\">\n",
       "  <thead>\n",
       "    <tr style=\"text-align: right;\">\n",
       "      <th></th>\n",
       "      <th>QUICK</th>\n",
       "      <th>MARGE</th>\n",
       "      <th>COUNTING</th>\n",
       "    </tr>\n",
       "  </thead>\n",
       "  <tbody>\n",
       "    <tr>\n",
       "      <th>0</th>\n",
       "      <td>1005</td>\n",
       "      <td>1325</td>\n",
       "      <td>394</td>\n",
       "    </tr>\n",
       "    <tr>\n",
       "      <th>1</th>\n",
       "      <td>1008</td>\n",
       "      <td>1328</td>\n",
       "      <td>457</td>\n",
       "    </tr>\n",
       "    <tr>\n",
       "      <th>2</th>\n",
       "      <td>1000</td>\n",
       "      <td>1314</td>\n",
       "      <td>396</td>\n",
       "    </tr>\n",
       "    <tr>\n",
       "      <th>3</th>\n",
       "      <td>987</td>\n",
       "      <td>1342</td>\n",
       "      <td>402</td>\n",
       "    </tr>\n",
       "    <tr>\n",
       "      <th>4</th>\n",
       "      <td>988</td>\n",
       "      <td>1312</td>\n",
       "      <td>385</td>\n",
       "    </tr>\n",
       "    <tr>\n",
       "      <th>5</th>\n",
       "      <td>984</td>\n",
       "      <td>1326</td>\n",
       "      <td>382</td>\n",
       "    </tr>\n",
       "    <tr>\n",
       "      <th>6</th>\n",
       "      <td>981</td>\n",
       "      <td>1310</td>\n",
       "      <td>398</td>\n",
       "    </tr>\n",
       "    <tr>\n",
       "      <th>7</th>\n",
       "      <td>994</td>\n",
       "      <td>1333</td>\n",
       "      <td>380</td>\n",
       "    </tr>\n",
       "    <tr>\n",
       "      <th>8</th>\n",
       "      <td>997</td>\n",
       "      <td>1327</td>\n",
       "      <td>379</td>\n",
       "    </tr>\n",
       "    <tr>\n",
       "      <th>9</th>\n",
       "      <td>988</td>\n",
       "      <td>1325</td>\n",
       "      <td>383</td>\n",
       "    </tr>\n",
       "    <tr>\n",
       "      <th>10</th>\n",
       "      <td>994</td>\n",
       "      <td>1344</td>\n",
       "      <td>382</td>\n",
       "    </tr>\n",
       "    <tr>\n",
       "      <th>11</th>\n",
       "      <td>987</td>\n",
       "      <td>1328</td>\n",
       "      <td>460</td>\n",
       "    </tr>\n",
       "    <tr>\n",
       "      <th>12</th>\n",
       "      <td>988</td>\n",
       "      <td>1331</td>\n",
       "      <td>399</td>\n",
       "    </tr>\n",
       "    <tr>\n",
       "      <th>13</th>\n",
       "      <td>1000</td>\n",
       "      <td>1333</td>\n",
       "      <td>382</td>\n",
       "    </tr>\n",
       "    <tr>\n",
       "      <th>14</th>\n",
       "      <td>996</td>\n",
       "      <td>1327</td>\n",
       "      <td>382</td>\n",
       "    </tr>\n",
       "    <tr>\n",
       "      <th>15</th>\n",
       "      <td>1027</td>\n",
       "      <td>1302</td>\n",
       "      <td>380</td>\n",
       "    </tr>\n",
       "    <tr>\n",
       "      <th>16</th>\n",
       "      <td>1029</td>\n",
       "      <td>1328</td>\n",
       "      <td>395</td>\n",
       "    </tr>\n",
       "    <tr>\n",
       "      <th>17</th>\n",
       "      <td>1025</td>\n",
       "      <td>1332</td>\n",
       "      <td>395</td>\n",
       "    </tr>\n",
       "    <tr>\n",
       "      <th>18</th>\n",
       "      <td>995</td>\n",
       "      <td>1345</td>\n",
       "      <td>387</td>\n",
       "    </tr>\n",
       "    <tr>\n",
       "      <th>19</th>\n",
       "      <td>997</td>\n",
       "      <td>1327</td>\n",
       "      <td>381</td>\n",
       "    </tr>\n",
       "    <tr>\n",
       "      <th>20</th>\n",
       "      <td>1002</td>\n",
       "      <td>1331</td>\n",
       "      <td>394</td>\n",
       "    </tr>\n",
       "    <tr>\n",
       "      <th>21</th>\n",
       "      <td>1016</td>\n",
       "      <td>1346</td>\n",
       "      <td>397</td>\n",
       "    </tr>\n",
       "    <tr>\n",
       "      <th>22</th>\n",
       "      <td>998</td>\n",
       "      <td>1311</td>\n",
       "      <td>389</td>\n",
       "    </tr>\n",
       "    <tr>\n",
       "      <th>23</th>\n",
       "      <td>990</td>\n",
       "      <td>1329</td>\n",
       "      <td>378</td>\n",
       "    </tr>\n",
       "    <tr>\n",
       "      <th>24</th>\n",
       "      <td>971</td>\n",
       "      <td>1311</td>\n",
       "      <td>390</td>\n",
       "    </tr>\n",
       "    <tr>\n",
       "      <th>25</th>\n",
       "      <td>1003</td>\n",
       "      <td>1326</td>\n",
       "      <td>397</td>\n",
       "    </tr>\n",
       "    <tr>\n",
       "      <th>26</th>\n",
       "      <td>995</td>\n",
       "      <td>1343</td>\n",
       "      <td>401</td>\n",
       "    </tr>\n",
       "    <tr>\n",
       "      <th>27</th>\n",
       "      <td>993</td>\n",
       "      <td>1332</td>\n",
       "      <td>380</td>\n",
       "    </tr>\n",
       "    <tr>\n",
       "      <th>28</th>\n",
       "      <td>988</td>\n",
       "      <td>1391</td>\n",
       "      <td>381</td>\n",
       "    </tr>\n",
       "    <tr>\n",
       "      <th>29</th>\n",
       "      <td>989</td>\n",
       "      <td>1356</td>\n",
       "      <td>389</td>\n",
       "    </tr>\n",
       "  </tbody>\n",
       "</table>\n",
       "</div>"
      ],
      "text/plain": [
       "    QUICK  MARGE  COUNTING\n",
       "0    1005   1325       394\n",
       "1    1008   1328       457\n",
       "2    1000   1314       396\n",
       "3     987   1342       402\n",
       "4     988   1312       385\n",
       "5     984   1326       382\n",
       "6     981   1310       398\n",
       "7     994   1333       380\n",
       "8     997   1327       379\n",
       "9     988   1325       383\n",
       "10    994   1344       382\n",
       "11    987   1328       460\n",
       "12    988   1331       399\n",
       "13   1000   1333       382\n",
       "14    996   1327       382\n",
       "15   1027   1302       380\n",
       "16   1029   1328       395\n",
       "17   1025   1332       395\n",
       "18    995   1345       387\n",
       "19    997   1327       381\n",
       "20   1002   1331       394\n",
       "21   1016   1346       397\n",
       "22    998   1311       389\n",
       "23    990   1329       378\n",
       "24    971   1311       390\n",
       "25   1003   1326       397\n",
       "26    995   1343       401\n",
       "27    993   1332       380\n",
       "28    988   1391       381\n",
       "29    989   1356       389"
      ]
     },
     "execution_count": 13,
     "metadata": {},
     "output_type": "execute_result"
    }
   ],
   "source": [
    "valores = pd.read_csv('planilhaTeste.csv')\n",
    "valores"
   ]
  },
  {
   "cell_type": "code",
   "execution_count": 3,
   "metadata": {},
   "outputs": [],
   "source": [
    "quick= valores[\"QUICK\"]\n",
    "merge= valores[\"MARGE\"]\n",
    "counting= valores[\"COUNTING\"]"
   ]
  },
  {
   "cell_type": "code",
   "execution_count": 14,
   "metadata": {},
   "outputs": [
    {
     "data": {
      "text/plain": [
       "count      30.000000\n",
       "mean      997.166667\n",
       "std        13.279705\n",
       "min       971.000000\n",
       "25%       988.000000\n",
       "50%       995.000000\n",
       "75%      1001.500000\n",
       "max      1029.000000\n",
       "Name: QUICK, dtype: float64"
      ]
     },
     "execution_count": 14,
     "metadata": {},
     "output_type": "execute_result"
    }
   ],
   "source": [
    "quick.describe()"
   ]
  },
  {
   "cell_type": "code",
   "execution_count": 16,
   "metadata": {},
   "outputs": [
    {
     "data": {
      "text/plain": [
       "count      30.000000\n",
       "mean     1330.500000\n",
       "std        16.625178\n",
       "min      1302.000000\n",
       "25%      1325.250000\n",
       "50%      1328.000000\n",
       "75%      1333.000000\n",
       "max      1391.000000\n",
       "Name: MARGE, dtype: float64"
      ]
     },
     "execution_count": 16,
     "metadata": {},
     "output_type": "execute_result"
    }
   ],
   "source": [
    "merge.describe()"
   ]
  },
  {
   "cell_type": "code",
   "execution_count": 15,
   "metadata": {},
   "outputs": [
    {
     "data": {
      "text/plain": [
       "count     30.000000\n",
       "mean     393.166667\n",
       "std       19.282086\n",
       "min      378.000000\n",
       "25%      382.000000\n",
       "50%      389.000000\n",
       "75%      396.750000\n",
       "max      460.000000\n",
       "Name: COUNTING, dtype: float64"
      ]
     },
     "execution_count": 15,
     "metadata": {},
     "output_type": "execute_result"
    }
   ],
   "source": [
    "counting.describe()"
   ]
  },
  {
   "cell_type": "code",
   "execution_count": 10,
   "metadata": {},
   "outputs": [
    {
     "name": "stdout",
     "output_type": "stream",
     "text": [
      "1.7033093319658996\n"
     ]
    }
   ],
   "source": [
    "tamanhoAmostraQuick = ((1.96*quick.std()) / (0.02 * quick.mean())) **2\n",
    "print(tamanhoAmostraQuick)"
   ]
  },
  {
   "cell_type": "code",
   "execution_count": 11,
   "metadata": {},
   "outputs": [
    {
     "name": "stdout",
     "output_type": "stream",
     "text": [
      "1.4995295006164424\n"
     ]
    }
   ],
   "source": [
    "tamanhoAmostraMerge = ((1.96*merge.std())/(0.02*merge.mean()))**2\n",
    "print(tamanhoAmostraMerge)"
   ]
  },
  {
   "cell_type": "code",
   "execution_count": 12,
   "metadata": {},
   "outputs": [
    {
     "name": "stdout",
     "output_type": "stream",
     "text": [
      "23.0997251860558\n"
     ]
    }
   ],
   "source": [
    "tamanhoAmostraCounting = ((1.96*counting.std())/(0.02*counting.mean()))**2\n",
    "print(tamanhoAmostraCounting)"
   ]
  },
  {
   "cell_type": "code",
   "execution_count": null,
   "metadata": {},
   "outputs": [],
   "source": []
  }
 ],
 "metadata": {
  "kernelspec": {
   "display_name": "Python 3",
   "language": "python",
   "name": "python3"
  },
  "language_info": {
   "codemirror_mode": {
    "name": "ipython",
    "version": 3
   },
   "file_extension": ".py",
   "mimetype": "text/x-python",
   "name": "python",
   "nbconvert_exporter": "python",
   "pygments_lexer": "ipython3",
   "version": "3.12.6"
  }
 },
 "nbformat": 4,
 "nbformat_minor": 2
}
